{
 "cells": [
  {
   "cell_type": "code",
   "execution_count": null,
   "metadata": {},
   "outputs": [],
   "source": [
    "# reviews.price.dtype\n",
    "# reviews.dtypes\n",
    "# reviews.points.astype('float64')\n",
    "# reviews.index.dtype"
   ]
  },
  {
   "cell_type": "code",
   "execution_count": null,
   "metadata": {},
   "outputs": [],
   "source": [
    "# reviews[pd.isnull(reviews.country)]\n",
    "# reviews.region_2.fillna(\"Unknown\")\n",
    "# reviews.taster_twitter_handle.replace(\"@kerinokeefe\", \"@kerino\")"
   ]
  },
  {
   "cell_type": "code",
   "execution_count": null,
   "metadata": {},
   "outputs": [],
   "source": [
    "# n_missing_prices = len(reviews[pd.isnull(reviews.price)])\n",
    "# n_missing_prices = reviews.price.isnull().sum()\n",
    "# n_missing_prices = pd.isnull(reviews.price).sum()"
   ]
  },
  {
   "cell_type": "code",
   "execution_count": null,
   "metadata": {},
   "outputs": [],
   "source": [
    "# reviews_per_region = reviews.region_1.fillna('Unknown').value_counts().sort_values(ascending=False)"
   ]
  }
 ],
 "metadata": {
  "language_info": {
   "name": "python"
  },
  "orig_nbformat": 4
 },
 "nbformat": 4,
 "nbformat_minor": 2
}
